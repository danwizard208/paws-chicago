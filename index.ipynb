{
 "cells": [
  {
   "cell_type": "code",
   "execution_count": 1,
   "metadata": {},
   "outputs": [],
   "source": [
    "import requests as rq\n",
    "import re\n",
    "import pandas as pd\n",
    "import lxml.etree\n",
    "import cssselect as css"
   ]
  },
  {
   "cell_type": "code",
   "execution_count": 2,
   "metadata": {},
   "outputs": [],
   "source": [
    "def parse_details(page_text):\n",
    "    html_root = lxml.etree.HTML(page_text)\n",
    "\n",
    "    return {\n",
    "        'Name': html_root.xpath(css.HTMLTranslator().css_to_xpath('div.box-title span'))[0].text,\n",
    "        'Breed': html_root.xpath(css.HTMLTranslator().css_to_xpath('div.breed-dog p'))[0].text,\n",
    "        'Gender': html_root.xpath(css.HTMLTranslator().css_to_xpath('div.gender p'))[0].text,\n",
    "        'Age': html_root.xpath(css.HTMLTranslator().css_to_xpath('div.age p'))[0].text,\n",
    "        'Weight': html_root.xpath(css.HTMLTranslator().css_to_xpath('div.weight p'))[0].text,\n",
    "        'Location': html_root.xpath(css.HTMLTranslator().css_to_xpath('div.location p'))[0].text,\n",
    "        'Description': html_root.xpath(css.HTMLTranslator().css_to_xpath('div.location p'))[0].text\n",
    "    }"
   ]
  },
  {
   "cell_type": "code",
   "execution_count": 3,
   "metadata": {},
   "outputs": [
    {
     "data": {
      "text/plain": [
       "{'http://www.pawschicago.org/pet-available-for-adoption/showdog/adler-3/',\n",
       " 'http://www.pawschicago.org/pet-available-for-adoption/showdog/adonis-2/',\n",
       " 'http://www.pawschicago.org/pet-available-for-adoption/showdog/alaric/',\n",
       " 'http://www.pawschicago.org/pet-available-for-adoption/showdog/alda/',\n",
       " 'http://www.pawschicago.org/pet-available-for-adoption/showdog/aldo-1/',\n",
       " 'http://www.pawschicago.org/pet-available-for-adoption/showdog/angelica-5/',\n",
       " 'http://www.pawschicago.org/pet-available-for-adoption/showdog/becca-2/',\n",
       " 'http://www.pawschicago.org/pet-available-for-adoption/showdog/bob-4/',\n",
       " 'http://www.pawschicago.org/pet-available-for-adoption/showdog/braxton-1/',\n",
       " 'http://www.pawschicago.org/pet-available-for-adoption/showdog/brazil/',\n",
       " 'http://www.pawschicago.org/pet-available-for-adoption/showdog/brody-2/',\n",
       " 'http://www.pawschicago.org/pet-available-for-adoption/showdog/bromley-1/',\n",
       " 'http://www.pawschicago.org/pet-available-for-adoption/showdog/bruno-7/',\n",
       " 'http://www.pawschicago.org/pet-available-for-adoption/showdog/burton/',\n",
       " 'http://www.pawschicago.org/pet-available-for-adoption/showdog/cailean-1/',\n",
       " 'http://www.pawschicago.org/pet-available-for-adoption/showdog/calvin-3/',\n",
       " 'http://www.pawschicago.org/pet-available-for-adoption/showdog/caramel-cassiopeia-cantelope/',\n",
       " 'http://www.pawschicago.org/pet-available-for-adoption/showdog/chestnut-1/',\n",
       " 'http://www.pawschicago.org/pet-available-for-adoption/showdog/colby-2/',\n",
       " 'http://www.pawschicago.org/pet-available-for-adoption/showdog/darby-3/',\n",
       " 'http://www.pawschicago.org/pet-available-for-adoption/showdog/donatello-1/',\n",
       " 'http://www.pawschicago.org/pet-available-for-adoption/showdog/duncan-1/',\n",
       " 'http://www.pawschicago.org/pet-available-for-adoption/showdog/elaine-2/',\n",
       " 'http://www.pawschicago.org/pet-available-for-adoption/showdog/elisa-1/',\n",
       " 'http://www.pawschicago.org/pet-available-for-adoption/showdog/ellen-1/',\n",
       " 'http://www.pawschicago.org/pet-available-for-adoption/showdog/evgeniy/',\n",
       " 'http://www.pawschicago.org/pet-available-for-adoption/showdog/faith-4/',\n",
       " 'http://www.pawschicago.org/pet-available-for-adoption/showdog/finch-1/',\n",
       " 'http://www.pawschicago.org/pet-available-for-adoption/showdog/fremont-2/',\n",
       " 'http://www.pawschicago.org/pet-available-for-adoption/showdog/fudge-3/',\n",
       " 'http://www.pawschicago.org/pet-available-for-adoption/showdog/furby/',\n",
       " 'http://www.pawschicago.org/pet-available-for-adoption/showdog/hallibee/',\n",
       " 'http://www.pawschicago.org/pet-available-for-adoption/showdog/harley-3/',\n",
       " 'http://www.pawschicago.org/pet-available-for-adoption/showdog/harry-5/',\n",
       " 'http://www.pawschicago.org/pet-available-for-adoption/showdog/haywood/',\n",
       " 'http://www.pawschicago.org/pet-available-for-adoption/showdog/hemi-1/',\n",
       " 'http://www.pawschicago.org/pet-available-for-adoption/showdog/hopper/',\n",
       " 'http://www.pawschicago.org/pet-available-for-adoption/showdog/huntley/',\n",
       " 'http://www.pawschicago.org/pet-available-for-adoption/showdog/ian-1/',\n",
       " 'http://www.pawschicago.org/pet-available-for-adoption/showdog/jace/',\n",
       " 'http://www.pawschicago.org/pet-available-for-adoption/showdog/jack-8/',\n",
       " 'http://www.pawschicago.org/pet-available-for-adoption/showdog/jay-2/',\n",
       " 'http://www.pawschicago.org/pet-available-for-adoption/showdog/jenson/',\n",
       " 'http://www.pawschicago.org/pet-available-for-adoption/showdog/jolene-2/',\n",
       " 'http://www.pawschicago.org/pet-available-for-adoption/showdog/jose/',\n",
       " 'http://www.pawschicago.org/pet-available-for-adoption/showdog/josie-3/',\n",
       " 'http://www.pawschicago.org/pet-available-for-adoption/showdog/joyce-2/',\n",
       " 'http://www.pawschicago.org/pet-available-for-adoption/showdog/jubilee/',\n",
       " 'http://www.pawschicago.org/pet-available-for-adoption/showdog/judge-1/',\n",
       " 'http://www.pawschicago.org/pet-available-for-adoption/showdog/kino-2/',\n",
       " 'http://www.pawschicago.org/pet-available-for-adoption/showdog/leila/',\n",
       " 'http://www.pawschicago.org/pet-available-for-adoption/showdog/lolo-3/',\n",
       " 'http://www.pawschicago.org/pet-available-for-adoption/showdog/lucas-1/',\n",
       " 'http://www.pawschicago.org/pet-available-for-adoption/showdog/merlock/',\n",
       " 'http://www.pawschicago.org/pet-available-for-adoption/showdog/merrill-1/',\n",
       " 'http://www.pawschicago.org/pet-available-for-adoption/showdog/miriam/',\n",
       " 'http://www.pawschicago.org/pet-available-for-adoption/showdog/mowgli-2/',\n",
       " 'http://www.pawschicago.org/pet-available-for-adoption/showdog/nightingale-wren/',\n",
       " 'http://www.pawschicago.org/pet-available-for-adoption/showdog/nish-1/',\n",
       " 'http://www.pawschicago.org/pet-available-for-adoption/showdog/noble-2/',\n",
       " 'http://www.pawschicago.org/pet-available-for-adoption/showdog/paddy-1/',\n",
       " 'http://www.pawschicago.org/pet-available-for-adoption/showdog/padme-1/',\n",
       " 'http://www.pawschicago.org/pet-available-for-adoption/showdog/penrod-1/',\n",
       " 'http://www.pawschicago.org/pet-available-for-adoption/showdog/pepper-4/',\n",
       " 'http://www.pawschicago.org/pet-available-for-adoption/showdog/petula-1/',\n",
       " 'http://www.pawschicago.org/pet-available-for-adoption/showdog/peyton-2/',\n",
       " 'http://www.pawschicago.org/pet-available-for-adoption/showdog/phil-3/',\n",
       " 'http://www.pawschicago.org/pet-available-for-adoption/showdog/poli/',\n",
       " 'http://www.pawschicago.org/pet-available-for-adoption/showdog/quincy-2/',\n",
       " 'http://www.pawschicago.org/pet-available-for-adoption/showdog/rae-1/',\n",
       " 'http://www.pawschicago.org/pet-available-for-adoption/showdog/raina-1/',\n",
       " 'http://www.pawschicago.org/pet-available-for-adoption/showdog/rani-1/',\n",
       " 'http://www.pawschicago.org/pet-available-for-adoption/showdog/rickey/',\n",
       " 'http://www.pawschicago.org/pet-available-for-adoption/showdog/rose-8/',\n",
       " 'http://www.pawschicago.org/pet-available-for-adoption/showdog/scotch-1/',\n",
       " 'http://www.pawschicago.org/pet-available-for-adoption/showdog/shelby-3/',\n",
       " 'http://www.pawschicago.org/pet-available-for-adoption/showdog/shep-1/',\n",
       " 'http://www.pawschicago.org/pet-available-for-adoption/showdog/sid-3/',\n",
       " 'http://www.pawschicago.org/pet-available-for-adoption/showdog/smokey-1/',\n",
       " 'http://www.pawschicago.org/pet-available-for-adoption/showdog/snoopy-3/',\n",
       " 'http://www.pawschicago.org/pet-available-for-adoption/showdog/spike-2/',\n",
       " 'http://www.pawschicago.org/pet-available-for-adoption/showdog/suri-2/',\n",
       " 'http://www.pawschicago.org/pet-available-for-adoption/showdog/sybil/',\n",
       " 'http://www.pawschicago.org/pet-available-for-adoption/showdog/sydney-5/',\n",
       " 'http://www.pawschicago.org/pet-available-for-adoption/showdog/tabitha-3/',\n",
       " 'http://www.pawschicago.org/pet-available-for-adoption/showdog/tegan-1/',\n",
       " 'http://www.pawschicago.org/pet-available-for-adoption/showdog/uncle-pecos-1/',\n",
       " 'http://www.pawschicago.org/pet-available-for-adoption/showdog/vedder/',\n",
       " 'http://www.pawschicago.org/pet-available-for-adoption/showdog/vella-2/',\n",
       " 'http://www.pawschicago.org/pet-available-for-adoption/showdog/velma/',\n",
       " 'http://www.pawschicago.org/pet-available-for-adoption/showdog/wolfe/',\n",
       " 'http://www.pawschicago.org/pet-available-for-adoption/showdog/woody-4/'}"
      ]
     },
     "execution_count": 3,
     "metadata": {},
     "output_type": "execute_result"
    }
   ],
   "source": [
    "dogs_page = rq.get(r'http://www.pawschicago.org/our-work/pet-adoption/pets-available/#dogsResults')\n",
    "some_dog_urls = re.findall(r'http://www.pawschicago.org/pet-available-for-adoption/showdog/.*/', dogs_page.text)\n",
    "\n",
    "more_dogs_data_url = re.search('.*dogs-load-more.*data-url=\"(.*)\"', dogs_page.text).group(1)\n",
    "more_dogs_result = rq.get(more_dogs_data_url)\n",
    "more_dog_urls = [dog['url'] for dog in more_dogs_result.json()['pets']]\n",
    "\n",
    "dog_urls = set(some_dog_urls + more_dog_urls)\n",
    "dog_urls"
   ]
  },
  {
   "cell_type": "code",
   "execution_count": 4,
   "metadata": {},
   "outputs": [
    {
     "data": {
      "text/plain": [
       "{'Name': 'Velma',\n",
       " 'Breed': 'Miniature Poodle Mix',\n",
       " 'Gender': 'Female',\n",
       " 'Age': '10 Years',\n",
       " 'Weight': '6.88lbs',\n",
       " 'Location': None,\n",
       " 'Description': None}"
      ]
     },
     "execution_count": 4,
     "metadata": {},
     "output_type": "execute_result"
    }
   ],
   "source": [
    "parse_details(rq.get(r'http://www.pawschicago.org/pet-available-for-adoption/showdog/velma/').text)"
   ]
  },
  {
   "cell_type": "code",
   "execution_count": 5,
   "metadata": {},
   "outputs": [
    {
     "data": {
      "text/plain": [
       "'Meet Lucas'"
      ]
     },
     "execution_count": 5,
     "metadata": {},
     "output_type": "execute_result"
    }
   ],
   "source": [
    "html_root = lxml.etree.HTML(rq.get(r'http://www.pawschicago.org/pet-available-for-adoption/showdog/lucas-1/').text)\n",
    "html_root.xpath(css.HTMLTranslator().css_to_xpath('h2:contains(Meet)'))[0].text"
   ]
  },
  {
   "cell_type": "code",
   "execution_count": null,
   "metadata": {},
   "outputs": [],
   "source": []
  }
 ],
 "metadata": {
  "kernelspec": {
   "display_name": "Python 3",
   "language": "python",
   "name": "python3"
  },
  "language_info": {
   "codemirror_mode": {
    "name": "ipython",
    "version": 3
   },
   "file_extension": ".py",
   "mimetype": "text/x-python",
   "name": "python",
   "nbconvert_exporter": "python",
   "pygments_lexer": "ipython3",
   "version": "3.7.1"
  }
 },
 "nbformat": 4,
 "nbformat_minor": 2
}
